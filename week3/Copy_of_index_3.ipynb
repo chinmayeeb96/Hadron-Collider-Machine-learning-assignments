{
  "cells": [
    {
      "cell_type": "code",
      "execution_count": 1,
      "metadata": {
        "id": "s3JmnzmpfGXV",
        "outputId": "2f05c0d1-ac3e-4ebf-d6e4-44e8ece892b6",
        "colab": {
          "base_uri": "https://localhost:8080/"
        }
      },
      "outputs": [
        {
          "output_type": "stream",
          "name": "stdout",
          "text": [
            "Populating the interactive namespace from numpy and matplotlib\n"
          ]
        }
      ],
      "source": [
        "%pylab inline"
      ]
    },
    {
      "cell_type": "code",
      "source": [
        "! pip install hep_ml"
      ],
      "metadata": {
        "colab": {
          "base_uri": "https://localhost:8080/"
        },
        "id": "Ffu6CFoRfsoz",
        "outputId": "0d18c354-ed54-48d4-acac-b794373227d6"
      },
      "execution_count": 3,
      "outputs": [
        {
          "output_type": "stream",
          "name": "stdout",
          "text": [
            "Collecting hep_ml\n",
            "  Downloading hep_ml-0.7.1-py3-none-any.whl (55 kB)\n",
            "\u001b[K     |████████████████████████████████| 55 kB 1.6 MB/s \n",
            "\u001b[?25hRequirement already satisfied: pandas>=0.14.0 in /usr/local/lib/python3.7/dist-packages (from hep_ml) (1.3.5)\n",
            "Requirement already satisfied: numpy>=1.9 in /usr/local/lib/python3.7/dist-packages (from hep_ml) (1.21.5)\n",
            "Collecting theano>=1.0.2\n",
            "  Downloading Theano-1.0.5.tar.gz (2.8 MB)\n",
            "\u001b[K     |████████████████████████████████| 2.8 MB 6.0 MB/s \n",
            "\u001b[?25hRequirement already satisfied: scipy>=0.15.0 in /usr/local/lib/python3.7/dist-packages (from hep_ml) (1.4.1)\n",
            "Requirement already satisfied: six in /usr/local/lib/python3.7/dist-packages (from hep_ml) (1.15.0)\n",
            "Requirement already satisfied: scikit-learn>=0.19 in /usr/local/lib/python3.7/dist-packages (from hep_ml) (1.0.2)\n",
            "Requirement already satisfied: python-dateutil>=2.7.3 in /usr/local/lib/python3.7/dist-packages (from pandas>=0.14.0->hep_ml) (2.8.2)\n",
            "Requirement already satisfied: pytz>=2017.3 in /usr/local/lib/python3.7/dist-packages (from pandas>=0.14.0->hep_ml) (2018.9)\n",
            "Requirement already satisfied: threadpoolctl>=2.0.0 in /usr/local/lib/python3.7/dist-packages (from scikit-learn>=0.19->hep_ml) (3.1.0)\n",
            "Requirement already satisfied: joblib>=0.11 in /usr/local/lib/python3.7/dist-packages (from scikit-learn>=0.19->hep_ml) (1.1.0)\n",
            "Building wheels for collected packages: theano\n",
            "  Building wheel for theano (setup.py) ... \u001b[?25l\u001b[?25hdone\n",
            "  Created wheel for theano: filename=Theano-1.0.5-py3-none-any.whl size=2668111 sha256=408a1645500f2607359b0b3a331ca3aed6f8f1c66716182123eda6f73134c3b2\n",
            "  Stored in directory: /root/.cache/pip/wheels/26/68/6f/745330367ce7822fe0cd863712858151f5723a0a5e322cc144\n",
            "Successfully built theano\n",
            "Installing collected packages: theano, hep-ml\n",
            "Successfully installed hep-ml-0.7.1 theano-1.0.5\n"
          ]
        }
      ]
    },
    {
      "cell_type": "code",
      "execution_count": 4,
      "metadata": {
        "id": "QjbjhGTqfGXf"
      },
      "outputs": [],
      "source": [
        "import pandas\n",
        "from sklearn.model_selection import train_test_split\n",
        "\n",
        "from sklearn.ensemble import AdaBoostClassifier\n",
        "from sklearn.tree import DecisionTreeClassifier\n",
        "\n",
        "from sklearn.metrics import roc_curve, roc_auc_score\n",
        "\n",
        "from hep_ml import metrics"
      ]
    },
    {
      "cell_type": "markdown",
      "metadata": {
        "id": "DnItU78mfGXh"
      },
      "source": [
        "# Load dataset and split into training / test\n",
        "\n",
        "`training.csv` is a mixture of simulated signal, real background.\n",
        "It has the following columns.\n",
        "\n",
        "`test.csv` has the following columns:\n",
        "\n"
      ]
    },
    {
      "cell_type": "code",
      "source": [
        "! pip install fsspec"
      ],
      "metadata": {
        "colab": {
          "base_uri": "https://localhost:8080/"
        },
        "id": "Hx2B390BgNmQ",
        "outputId": "48f1ed67-e3f7-4c78-af37-5e6bc9d9a850"
      },
      "execution_count": 7,
      "outputs": [
        {
          "output_type": "stream",
          "name": "stdout",
          "text": [
            "Collecting fsspec\n",
            "  Downloading fsspec-2022.1.0-py3-none-any.whl (133 kB)\n",
            "\u001b[?25l\r\u001b[K     |██▌                             | 10 kB 10.4 MB/s eta 0:00:01\r\u001b[K     |█████                           | 20 kB 13.6 MB/s eta 0:00:01\r\u001b[K     |███████▍                        | 30 kB 7.0 MB/s eta 0:00:01\r\u001b[K     |█████████▉                      | 40 kB 6.2 MB/s eta 0:00:01\r\u001b[K     |████████████▎                   | 51 kB 3.4 MB/s eta 0:00:01\r\u001b[K     |██████████████▊                 | 61 kB 4.0 MB/s eta 0:00:01\r\u001b[K     |█████████████████▏              | 71 kB 4.1 MB/s eta 0:00:01\r\u001b[K     |███████████████████▊            | 81 kB 4.3 MB/s eta 0:00:01\r\u001b[K     |██████████████████████▏         | 92 kB 4.7 MB/s eta 0:00:01\r\u001b[K     |████████████████████████▋       | 102 kB 4.1 MB/s eta 0:00:01\r\u001b[K     |███████████████████████████     | 112 kB 4.1 MB/s eta 0:00:01\r\u001b[K     |█████████████████████████████▌  | 122 kB 4.1 MB/s eta 0:00:01\r\u001b[K     |████████████████████████████████| 133 kB 4.1 MB/s eta 0:00:01\r\u001b[K     |████████████████████████████████| 133 kB 4.1 MB/s \n",
            "\u001b[?25hInstalling collected packages: fsspec\n",
            "Successfully installed fsspec-2022.1.0\n"
          ]
        }
      ]
    },
    {
      "cell_type": "code",
      "execution_count": 12,
      "metadata": {
        "scrolled": true,
        "id": "WYiVVsP5fGXl"
      },
      "outputs": [],
      "source": [
        "train_ada = pandas.read_csv('https://github.com/hse-aml/hadron-collider-machine-learning/releases/download/Week_3/training.csv.gz', sep=',')\n",
        "test_ada = pandas.read_csv('https://github.com/hse-aml/hadron-collider-machine-learning/releases/download/Week_3/test.csv.gz', sep=',', index_col='id')"
      ]
    },
    {
      "cell_type": "code",
      "execution_count": 13,
      "metadata": {
        "id": "mAiwv9A6fGXo",
        "outputId": "d816abb6-5311-48dc-b3b5-de6f76a81029",
        "colab": {
          "base_uri": "https://localhost:8080/"
        }
      },
      "outputs": [
        {
          "output_type": "stream",
          "name": "stdout",
          "text": [
            "Training full sample columns: id, LifeTime, dira, FlightDistance, FlightDistanceError, IP, IPSig, VertexChi2, pt, DOCAone, DOCAtwo, DOCAthree, IP_p0p2, IP_p1p2, isolationa, isolationb, isolationc, isolationd, isolatione, isolationf, iso, CDF1, CDF2, CDF3, ISO_SumBDT, p0_IsoBDT, p1_IsoBDT, p2_IsoBDT, p0_track_Chi2Dof, p1_track_Chi2Dof, p2_track_Chi2Dof, p0_IP, p1_IP, p2_IP, p0_IPSig, p1_IPSig, p2_IPSig, p0_pt, p1_pt, p2_pt, p0_p, p1_p, p2_p, p0_eta, p1_eta, p2_eta, SPDhits, production, signal, mass, min_ANNmuon \n",
            "Shape: (67553, 51)\n"
          ]
        }
      ],
      "source": [
        "print (\"Training full sample columns:\", \", \".join(train_ada.columns), \"\\nShape:\", train_ada.shape)"
      ]
    },
    {
      "cell_type": "code",
      "execution_count": 14,
      "metadata": {
        "id": "t8SZddrUfGXq",
        "outputId": "4616792e-db9e-48e3-ce17-837efba4ff66",
        "colab": {
          "base_uri": "https://localhost:8080/",
          "height": 336
        }
      },
      "outputs": [
        {
          "output_type": "stream",
          "name": "stdout",
          "text": [
            "Test full sample columns: LifeTime, dira, FlightDistance, FlightDistanceError, IP, IPSig, VertexChi2, pt, DOCAone, DOCAtwo, DOCAthree, IP_p0p2, IP_p1p2, isolationa, isolationb, isolationc, isolationd, isolatione, isolationf, iso, CDF1, CDF2, CDF3, ISO_SumBDT, p0_IsoBDT, p1_IsoBDT, p2_IsoBDT, p0_track_Chi2Dof, p1_track_Chi2Dof, p2_track_Chi2Dof, p0_IP, p1_IP, p2_IP, p0_IPSig, p1_IPSig, p2_IPSig, p0_pt, p1_pt, p2_pt, p0_p, p1_p, p2_p, p0_eta, p1_eta, p2_eta, SPDhits \n",
            "Shape: (855819, 46)\n"
          ]
        },
        {
          "output_type": "execute_result",
          "data": {
            "text/html": [
              "\n",
              "  <div id=\"df-14ede0c6-416c-48f3-9bba-0506d97db482\">\n",
              "    <div class=\"colab-df-container\">\n",
              "      <div>\n",
              "<style scoped>\n",
              "    .dataframe tbody tr th:only-of-type {\n",
              "        vertical-align: middle;\n",
              "    }\n",
              "\n",
              "    .dataframe tbody tr th {\n",
              "        vertical-align: top;\n",
              "    }\n",
              "\n",
              "    .dataframe thead th {\n",
              "        text-align: right;\n",
              "    }\n",
              "</style>\n",
              "<table border=\"1\" class=\"dataframe\">\n",
              "  <thead>\n",
              "    <tr style=\"text-align: right;\">\n",
              "      <th></th>\n",
              "      <th>LifeTime</th>\n",
              "      <th>dira</th>\n",
              "      <th>FlightDistance</th>\n",
              "      <th>FlightDistanceError</th>\n",
              "      <th>IP</th>\n",
              "      <th>IPSig</th>\n",
              "      <th>VertexChi2</th>\n",
              "      <th>pt</th>\n",
              "      <th>DOCAone</th>\n",
              "      <th>DOCAtwo</th>\n",
              "      <th>DOCAthree</th>\n",
              "      <th>IP_p0p2</th>\n",
              "      <th>IP_p1p2</th>\n",
              "      <th>isolationa</th>\n",
              "      <th>isolationb</th>\n",
              "      <th>isolationc</th>\n",
              "      <th>isolationd</th>\n",
              "      <th>isolatione</th>\n",
              "      <th>isolationf</th>\n",
              "      <th>iso</th>\n",
              "      <th>CDF1</th>\n",
              "      <th>CDF2</th>\n",
              "      <th>CDF3</th>\n",
              "      <th>ISO_SumBDT</th>\n",
              "      <th>p0_IsoBDT</th>\n",
              "      <th>p1_IsoBDT</th>\n",
              "      <th>p2_IsoBDT</th>\n",
              "      <th>p0_track_Chi2Dof</th>\n",
              "      <th>p1_track_Chi2Dof</th>\n",
              "      <th>p2_track_Chi2Dof</th>\n",
              "      <th>p0_IP</th>\n",
              "      <th>p1_IP</th>\n",
              "      <th>p2_IP</th>\n",
              "      <th>p0_IPSig</th>\n",
              "      <th>p1_IPSig</th>\n",
              "      <th>p2_IPSig</th>\n",
              "      <th>p0_pt</th>\n",
              "      <th>p1_pt</th>\n",
              "      <th>p2_pt</th>\n",
              "      <th>p0_p</th>\n",
              "      <th>p1_p</th>\n",
              "      <th>p2_p</th>\n",
              "      <th>p0_eta</th>\n",
              "      <th>p1_eta</th>\n",
              "      <th>p2_eta</th>\n",
              "      <th>SPDhits</th>\n",
              "    </tr>\n",
              "    <tr>\n",
              "      <th>id</th>\n",
              "      <th></th>\n",
              "      <th></th>\n",
              "      <th></th>\n",
              "      <th></th>\n",
              "      <th></th>\n",
              "      <th></th>\n",
              "      <th></th>\n",
              "      <th></th>\n",
              "      <th></th>\n",
              "      <th></th>\n",
              "      <th></th>\n",
              "      <th></th>\n",
              "      <th></th>\n",
              "      <th></th>\n",
              "      <th></th>\n",
              "      <th></th>\n",
              "      <th></th>\n",
              "      <th></th>\n",
              "      <th></th>\n",
              "      <th></th>\n",
              "      <th></th>\n",
              "      <th></th>\n",
              "      <th></th>\n",
              "      <th></th>\n",
              "      <th></th>\n",
              "      <th></th>\n",
              "      <th></th>\n",
              "      <th></th>\n",
              "      <th></th>\n",
              "      <th></th>\n",
              "      <th></th>\n",
              "      <th></th>\n",
              "      <th></th>\n",
              "      <th></th>\n",
              "      <th></th>\n",
              "      <th></th>\n",
              "      <th></th>\n",
              "      <th></th>\n",
              "      <th></th>\n",
              "      <th></th>\n",
              "      <th></th>\n",
              "      <th></th>\n",
              "      <th></th>\n",
              "      <th></th>\n",
              "      <th></th>\n",
              "      <th></th>\n",
              "    </tr>\n",
              "  </thead>\n",
              "  <tbody>\n",
              "    <tr>\n",
              "      <th>14711831</th>\n",
              "      <td>0.001273</td>\n",
              "      <td>0.999816</td>\n",
              "      <td>8.569642</td>\n",
              "      <td>0.310039</td>\n",
              "      <td>0.197893</td>\n",
              "      <td>5.183939</td>\n",
              "      <td>2.286117</td>\n",
              "      <td>687.479248</td>\n",
              "      <td>0.022301</td>\n",
              "      <td>0.050763</td>\n",
              "      <td>0.124735</td>\n",
              "      <td>0.148945</td>\n",
              "      <td>0.065997</td>\n",
              "      <td>0</td>\n",
              "      <td>1</td>\n",
              "      <td>4</td>\n",
              "      <td>2.0</td>\n",
              "      <td>2.0</td>\n",
              "      <td>0.0</td>\n",
              "      <td>4.0</td>\n",
              "      <td>0.448872</td>\n",
              "      <td>0.411983</td>\n",
              "      <td>0.141371</td>\n",
              "      <td>-0.751272</td>\n",
              "      <td>-0.145808</td>\n",
              "      <td>-0.280569</td>\n",
              "      <td>-0.324895</td>\n",
              "      <td>0.753610</td>\n",
              "      <td>1.846906</td>\n",
              "      <td>1.031751</td>\n",
              "      <td>0.329494</td>\n",
              "      <td>0.872634</td>\n",
              "      <td>0.686377</td>\n",
              "      <td>3.465280</td>\n",
              "      <td>10.841214</td>\n",
              "      <td>22.478136</td>\n",
              "      <td>508.926514</td>\n",
              "      <td>306.629456</td>\n",
              "      <td>714.222717</td>\n",
              "      <td>30300.734375</td>\n",
              "      <td>5662.158691</td>\n",
              "      <td>7406.368164</td>\n",
              "      <td>4.779700</td>\n",
              "      <td>3.608334</td>\n",
              "      <td>3.029715</td>\n",
              "      <td>705</td>\n",
              "    </tr>\n",
              "    <tr>\n",
              "      <th>16316387</th>\n",
              "      <td>0.000661</td>\n",
              "      <td>0.999954</td>\n",
              "      <td>7.061379</td>\n",
              "      <td>0.348772</td>\n",
              "      <td>0.067430</td>\n",
              "      <td>6.316281</td>\n",
              "      <td>3.865824</td>\n",
              "      <td>5691.845703</td>\n",
              "      <td>0.002455</td>\n",
              "      <td>0.037633</td>\n",
              "      <td>0.005614</td>\n",
              "      <td>0.116943</td>\n",
              "      <td>0.117106</td>\n",
              "      <td>19</td>\n",
              "      <td>6</td>\n",
              "      <td>9</td>\n",
              "      <td>3.0</td>\n",
              "      <td>0.0</td>\n",
              "      <td>3.0</td>\n",
              "      <td>6.0</td>\n",
              "      <td>0.389287</td>\n",
              "      <td>0.187060</td>\n",
              "      <td>0.076054</td>\n",
              "      <td>-0.347637</td>\n",
              "      <td>-0.115879</td>\n",
              "      <td>-0.115879</td>\n",
              "      <td>-0.115879</td>\n",
              "      <td>2.076739</td>\n",
              "      <td>1.069274</td>\n",
              "      <td>1.009442</td>\n",
              "      <td>0.457204</td>\n",
              "      <td>0.150543</td>\n",
              "      <td>0.165927</td>\n",
              "      <td>13.728366</td>\n",
              "      <td>10.874161</td>\n",
              "      <td>8.310439</td>\n",
              "      <td>943.130676</td>\n",
              "      <td>3287.291260</td>\n",
              "      <td>1563.593994</td>\n",
              "      <td>6160.323730</td>\n",
              "      <td>43781.566406</td>\n",
              "      <td>19728.500000</td>\n",
              "      <td>2.563915</td>\n",
              "      <td>3.280884</td>\n",
              "      <td>3.226650</td>\n",
              "      <td>907</td>\n",
              "    </tr>\n",
              "    <tr>\n",
              "      <th>6771382</th>\n",
              "      <td>0.000889</td>\n",
              "      <td>0.999999</td>\n",
              "      <td>6.502967</td>\n",
              "      <td>0.273914</td>\n",
              "      <td>0.011020</td>\n",
              "      <td>0.865816</td>\n",
              "      <td>1.004631</td>\n",
              "      <td>5429.225586</td>\n",
              "      <td>0.002753</td>\n",
              "      <td>0.036379</td>\n",
              "      <td>0.040004</td>\n",
              "      <td>0.110153</td>\n",
              "      <td>0.183199</td>\n",
              "      <td>0</td>\n",
              "      <td>3</td>\n",
              "      <td>1</td>\n",
              "      <td>0.0</td>\n",
              "      <td>0.0</td>\n",
              "      <td>0.0</td>\n",
              "      <td>0.0</td>\n",
              "      <td>1.000000</td>\n",
              "      <td>0.960757</td>\n",
              "      <td>0.960757</td>\n",
              "      <td>-0.777667</td>\n",
              "      <td>-0.222446</td>\n",
              "      <td>-0.222446</td>\n",
              "      <td>-0.332776</td>\n",
              "      <td>1.194183</td>\n",
              "      <td>0.710145</td>\n",
              "      <td>1.094024</td>\n",
              "      <td>0.162487</td>\n",
              "      <td>0.199006</td>\n",
              "      <td>0.564369</td>\n",
              "      <td>9.725705</td>\n",
              "      <td>13.215377</td>\n",
              "      <td>11.707615</td>\n",
              "      <td>2886.055908</td>\n",
              "      <td>2216.936279</td>\n",
              "      <td>598.068359</td>\n",
              "      <td>26387.134766</td>\n",
              "      <td>15534.978516</td>\n",
              "      <td>6504.145020</td>\n",
              "      <td>2.903129</td>\n",
              "      <td>2.634985</td>\n",
              "      <td>3.077517</td>\n",
              "      <td>213</td>\n",
              "    </tr>\n",
              "    <tr>\n",
              "      <th>686045</th>\n",
              "      <td>0.001295</td>\n",
              "      <td>0.999301</td>\n",
              "      <td>7.838184</td>\n",
              "      <td>0.325697</td>\n",
              "      <td>0.388636</td>\n",
              "      <td>11.391245</td>\n",
              "      <td>10.345356</td>\n",
              "      <td>661.717834</td>\n",
              "      <td>0.008163</td>\n",
              "      <td>0.436003</td>\n",
              "      <td>0.188972</td>\n",
              "      <td>0.458021</td>\n",
              "      <td>0.551724</td>\n",
              "      <td>9</td>\n",
              "      <td>5</td>\n",
              "      <td>1</td>\n",
              "      <td>2.0</td>\n",
              "      <td>0.0</td>\n",
              "      <td>1.0</td>\n",
              "      <td>3.0</td>\n",
              "      <td>0.352854</td>\n",
              "      <td>0.143209</td>\n",
              "      <td>0.137221</td>\n",
              "      <td>-0.482896</td>\n",
              "      <td>-0.084681</td>\n",
              "      <td>-0.100762</td>\n",
              "      <td>-0.297453</td>\n",
              "      <td>1.512858</td>\n",
              "      <td>1.091243</td>\n",
              "      <td>1.011030</td>\n",
              "      <td>0.656599</td>\n",
              "      <td>0.304019</td>\n",
              "      <td>0.801548</td>\n",
              "      <td>17.860973</td>\n",
              "      <td>3.498727</td>\n",
              "      <td>16.569244</td>\n",
              "      <td>461.727753</td>\n",
              "      <td>357.967560</td>\n",
              "      <td>1118.084229</td>\n",
              "      <td>5451.857422</td>\n",
              "      <td>10281.403320</td>\n",
              "      <td>23722.742188</td>\n",
              "      <td>3.160085</td>\n",
              "      <td>4.050494</td>\n",
              "      <td>3.747409</td>\n",
              "      <td>275</td>\n",
              "    </tr>\n",
              "    <tr>\n",
              "      <th>8755882</th>\n",
              "      <td>0.001714</td>\n",
              "      <td>0.999805</td>\n",
              "      <td>7.064559</td>\n",
              "      <td>0.113440</td>\n",
              "      <td>0.154421</td>\n",
              "      <td>13.925871</td>\n",
              "      <td>12.951378</td>\n",
              "      <td>3885.417969</td>\n",
              "      <td>0.066317</td>\n",
              "      <td>0.052183</td>\n",
              "      <td>0.029873</td>\n",
              "      <td>0.376774</td>\n",
              "      <td>0.412828</td>\n",
              "      <td>13</td>\n",
              "      <td>6</td>\n",
              "      <td>6</td>\n",
              "      <td>0.0</td>\n",
              "      <td>2.0</td>\n",
              "      <td>1.0</td>\n",
              "      <td>3.0</td>\n",
              "      <td>0.313903</td>\n",
              "      <td>0.250328</td>\n",
              "      <td>0.240195</td>\n",
              "      <td>-0.451658</td>\n",
              "      <td>-0.115879</td>\n",
              "      <td>-0.183488</td>\n",
              "      <td>-0.152291</td>\n",
              "      <td>1.555909</td>\n",
              "      <td>1.221972</td>\n",
              "      <td>1.544137</td>\n",
              "      <td>0.546148</td>\n",
              "      <td>0.417822</td>\n",
              "      <td>0.828005</td>\n",
              "      <td>44.483707</td>\n",
              "      <td>24.498425</td>\n",
              "      <td>20.247360</td>\n",
              "      <td>1773.747925</td>\n",
              "      <td>1643.278198</td>\n",
              "      <td>711.572205</td>\n",
              "      <td>7724.954590</td>\n",
              "      <td>12830.546875</td>\n",
              "      <td>6008.145996</td>\n",
              "      <td>2.151059</td>\n",
              "      <td>2.744157</td>\n",
              "      <td>2.823017</td>\n",
              "      <td>357</td>\n",
              "    </tr>\n",
              "  </tbody>\n",
              "</table>\n",
              "</div>\n",
              "      <button class=\"colab-df-convert\" onclick=\"convertToInteractive('df-14ede0c6-416c-48f3-9bba-0506d97db482')\"\n",
              "              title=\"Convert this dataframe to an interactive table.\"\n",
              "              style=\"display:none;\">\n",
              "        \n",
              "  <svg xmlns=\"http://www.w3.org/2000/svg\" height=\"24px\"viewBox=\"0 0 24 24\"\n",
              "       width=\"24px\">\n",
              "    <path d=\"M0 0h24v24H0V0z\" fill=\"none\"/>\n",
              "    <path d=\"M18.56 5.44l.94 2.06.94-2.06 2.06-.94-2.06-.94-.94-2.06-.94 2.06-2.06.94zm-11 1L8.5 8.5l.94-2.06 2.06-.94-2.06-.94L8.5 2.5l-.94 2.06-2.06.94zm10 10l.94 2.06.94-2.06 2.06-.94-2.06-.94-.94-2.06-.94 2.06-2.06.94z\"/><path d=\"M17.41 7.96l-1.37-1.37c-.4-.4-.92-.59-1.43-.59-.52 0-1.04.2-1.43.59L10.3 9.45l-7.72 7.72c-.78.78-.78 2.05 0 2.83L4 21.41c.39.39.9.59 1.41.59.51 0 1.02-.2 1.41-.59l7.78-7.78 2.81-2.81c.8-.78.8-2.07 0-2.86zM5.41 20L4 18.59l7.72-7.72 1.47 1.35L5.41 20z\"/>\n",
              "  </svg>\n",
              "      </button>\n",
              "      \n",
              "  <style>\n",
              "    .colab-df-container {\n",
              "      display:flex;\n",
              "      flex-wrap:wrap;\n",
              "      gap: 12px;\n",
              "    }\n",
              "\n",
              "    .colab-df-convert {\n",
              "      background-color: #E8F0FE;\n",
              "      border: none;\n",
              "      border-radius: 50%;\n",
              "      cursor: pointer;\n",
              "      display: none;\n",
              "      fill: #1967D2;\n",
              "      height: 32px;\n",
              "      padding: 0 0 0 0;\n",
              "      width: 32px;\n",
              "    }\n",
              "\n",
              "    .colab-df-convert:hover {\n",
              "      background-color: #E2EBFA;\n",
              "      box-shadow: 0px 1px 2px rgba(60, 64, 67, 0.3), 0px 1px 3px 1px rgba(60, 64, 67, 0.15);\n",
              "      fill: #174EA6;\n",
              "    }\n",
              "\n",
              "    [theme=dark] .colab-df-convert {\n",
              "      background-color: #3B4455;\n",
              "      fill: #D2E3FC;\n",
              "    }\n",
              "\n",
              "    [theme=dark] .colab-df-convert:hover {\n",
              "      background-color: #434B5C;\n",
              "      box-shadow: 0px 1px 3px 1px rgba(0, 0, 0, 0.15);\n",
              "      filter: drop-shadow(0px 1px 2px rgba(0, 0, 0, 0.3));\n",
              "      fill: #FFFFFF;\n",
              "    }\n",
              "  </style>\n",
              "\n",
              "      <script>\n",
              "        const buttonEl =\n",
              "          document.querySelector('#df-14ede0c6-416c-48f3-9bba-0506d97db482 button.colab-df-convert');\n",
              "        buttonEl.style.display =\n",
              "          google.colab.kernel.accessAllowed ? 'block' : 'none';\n",
              "\n",
              "        async function convertToInteractive(key) {\n",
              "          const element = document.querySelector('#df-14ede0c6-416c-48f3-9bba-0506d97db482');\n",
              "          const dataTable =\n",
              "            await google.colab.kernel.invokeFunction('convertToInteractive',\n",
              "                                                     [key], {});\n",
              "          if (!dataTable) return;\n",
              "\n",
              "          const docLinkHtml = 'Like what you see? Visit the ' +\n",
              "            '<a target=\"_blank\" href=https://colab.research.google.com/notebooks/data_table.ipynb>data table notebook</a>'\n",
              "            + ' to learn more about interactive tables.';\n",
              "          element.innerHTML = '';\n",
              "          dataTable['output_type'] = 'display_data';\n",
              "          await google.colab.output.renderOutput(dataTable, element);\n",
              "          const docLink = document.createElement('div');\n",
              "          docLink.innerHTML = docLinkHtml;\n",
              "          element.appendChild(docLink);\n",
              "        }\n",
              "      </script>\n",
              "    </div>\n",
              "  </div>\n",
              "  "
            ],
            "text/plain": [
              "          LifeTime      dira  FlightDistance  ...    p1_eta    p2_eta  SPDhits\n",
              "id                                            ...                             \n",
              "14711831  0.001273  0.999816        8.569642  ...  3.608334  3.029715      705\n",
              "16316387  0.000661  0.999954        7.061379  ...  3.280884  3.226650      907\n",
              "6771382   0.000889  0.999999        6.502967  ...  2.634985  3.077517      213\n",
              "686045    0.001295  0.999301        7.838184  ...  4.050494  3.747409      275\n",
              "8755882   0.001714  0.999805        7.064559  ...  2.744157  2.823017      357\n",
              "\n",
              "[5 rows x 46 columns]"
            ]
          },
          "metadata": {},
          "execution_count": 14
        }
      ],
      "source": [
        "print (\"Test full sample columns:\", \", \".join(test_ada.columns), \"\\nShape:\", test_ada.shape)\n",
        "test_ada.head()"
      ]
    },
    {
      "cell_type": "markdown",
      "metadata": {
        "id": "zD2zbvSwfGXs"
      },
      "source": [
        "# Train simple model using part of the training sample"
      ]
    },
    {
      "cell_type": "code",
      "execution_count": 15,
      "metadata": {
        "id": "if6Lj6yhfGXt"
      },
      "outputs": [],
      "source": [
        "train, test = train_test_split(train_ada, test_size=0.3, random_state=13)"
      ]
    },
    {
      "cell_type": "markdown",
      "metadata": {
        "id": "ghoFgBiTfGXv"
      },
      "source": [
        "Let's chose features to train a model"
      ]
    },
    {
      "cell_type": "code",
      "execution_count": 16,
      "metadata": {
        "id": "BuqwzmOMfGXw",
        "outputId": "1a6035c6-6869-4dd0-9d72-f7c894e9bc37",
        "colab": {
          "base_uri": "https://localhost:8080/"
        }
      },
      "outputs": [
        {
          "output_type": "stream",
          "name": "stdout",
          "text": [
            "['IP', 'p2_pt', 'ISO_SumBDT', 'CDF2', 'p1_eta', 'p1_IsoBDT', 'DOCAthree', 'p0_IPSig', 'p1_pt', 'p0_IP', 'isolationb', 'isolationc', 'isolationf', 'VertexChi2', 'FlightDistance', 'p1_p', 'p2_track_Chi2Dof', 'IPSig', 'IP_p0p2', 'p2_IPSig', 'pt', 'DOCAone', 'CDF1', 'CDF3', 'p2_eta', 'p0_track_Chi2Dof', 'SPDhits', 'p2_IsoBDT', 'p1_IPSig', 'iso', 'p1_track_Chi2Dof', 'isolationd', 'p0_eta', 'isolationa', 'dira', 'LifeTime', 'IP_p1p2', 'p1_IP', 'p0_pt', 'p0_IsoBDT', 'p2_p', 'DOCAtwo', 'isolatione', 'p2_IP', 'FlightDistanceError', 'p0_p']\n"
          ]
        }
      ],
      "source": [
        "variables = list(set(train_ada.columns) - {'id', 'signal', 'mass', 'production', 'min_ANNmuon'})\n",
        "print (variables)"
      ]
    },
    {
      "cell_type": "code",
      "execution_count": 17,
      "metadata": {
        "id": "U1Y48_7-fGXx",
        "outputId": "ca98c124-bb5e-4248-fca5-78c0d1fa83a0",
        "colab": {
          "base_uri": "https://localhost:8080/"
        }
      },
      "outputs": [
        {
          "output_type": "stream",
          "name": "stdout",
          "text": [
            "CPU times: user 1min 31s, sys: 77.4 ms, total: 1min 31s\n",
            "Wall time: 1min 32s\n"
          ]
        }
      ],
      "source": [
        "%%time\n",
        "clf = AdaBoostClassifier(n_estimators=120, learning_rate=0.009, random_state=13,\n",
        "                             base_estimator=DecisionTreeClassifier(max_depth=19, min_samples_leaf=40, max_features=10,\n",
        "                                                                    random_state=13))\n",
        "clf.fit(train[variables], train['signal'])"
      ]
    },
    {
      "cell_type": "markdown",
      "metadata": {
        "id": "dFzQv1KnfGXy"
      },
      "source": [
        "# Check model quality on a half of the training sample\n"
      ]
    },
    {
      "cell_type": "code",
      "execution_count": 18,
      "metadata": {
        "id": "-aedCDo7fGXz"
      },
      "outputs": [],
      "source": [
        "def plot_metrics(y_true, y_pred):\n",
        "    fpr, tpr, thresholds = roc_curve(y_true, y_pred)\n",
        "    roc_auc = roc_auc_score(y_true, y_pred)\n",
        "\n",
        "    plt.plot(fpr, tpr, label='ROC AUC=%f' % roc_auc)\n",
        "    plt.xlabel(\"FPR\")\n",
        "    plt.ylabel(\"TPR\")\n",
        "    plt.legend()\n",
        "    plt.title(\"ROC Curve\")"
      ]
    },
    {
      "cell_type": "code",
      "execution_count": 19,
      "metadata": {
        "id": "d2IskOOJfGX0",
        "outputId": "4166bc5d-ac0e-46d8-9ad2-e789e0998da1",
        "colab": {
          "base_uri": "https://localhost:8080/",
          "height": 312
        }
      },
      "outputs": [
        {
          "output_type": "execute_result",
          "data": {
            "text/plain": [
              "((20266, 51), (20266,))"
            ]
          },
          "metadata": {},
          "execution_count": 19
        },
        {
          "output_type": "display_data",
          "data": {
            "image/png": "[encoded data removed]",
            "text/plain": [
              "<Figure size 432x288 with 1 Axes>"
            ]
          },
          "metadata": {
            "needs_background": "light"
          }
        }
      ],
      "source": [
        "y_pred = clf.predict_proba(test[variables])[:, 1]\n",
        "\n",
        "plot_metrics(test['signal'], y_pred)\n",
        "test.shape, y_pred.shape"
      ]
    },
    {
      "cell_type": "markdown",
      "metadata": {
        "id": "vY7AMONBfGX1"
      },
      "source": [
        "ROC AUC is just a part of the solution, you also have to make sure that\n",
        "\n",
        "- the classifier output is not correlated with the mass\n",
        "- classifier performs similarily on MC and real data of the normalization channel\n"
      ]
    },
    {
      "cell_type": "markdown",
      "metadata": {
        "id": "hk4yywzpfGX2"
      },
      "source": [
        "### Mass correlation check"
      ]
    },
    {
      "cell_type": "code",
      "execution_count": 22,
      "metadata": {
        "id": "tuGhh83gfGX3"
      },
      "outputs": [],
      "source": [
        "df_corr_check = pandas.read_csv(\"https://github.com/hse-aml/hadron-collider-machine-learning/releases/download/Week_3/check_correlation.csv.gz\")"
      ]
    },
    {
      "cell_type": "code",
      "execution_count": 23,
      "metadata": {
        "id": "wzhGsH44fGX4",
        "outputId": "0e937b1c-75dc-4510-e0dc-741099291eb4",
        "colab": {
          "base_uri": "https://localhost:8080/"
        }
      },
      "outputs": [
        {
          "output_type": "execute_result",
          "data": {
            "text/plain": [
              "(5514, 48)"
            ]
          },
          "metadata": {},
          "execution_count": 23
        }
      ],
      "source": [
        "df_corr_check.shape"
      ]
    },
    {
      "cell_type": "code",
      "execution_count": 24,
      "metadata": {
        "id": "DEKuQB4GfGX5"
      },
      "outputs": [],
      "source": [
        "y_pred = clf.predict(df_corr_check[variables])"
      ]
    },
    {
      "cell_type": "code",
      "execution_count": 25,
      "metadata": {
        "id": "L4xSl4QMfGX5"
      },
      "outputs": [],
      "source": [
        " def efficiencies(features, thresholds=None, mask=None, bins=30, labels_dict=None, ignored_sideband=0.0,\n",
        "                     errors=False, grid_columns=2):\n",
        "        \"\"\"\n",
        "        Efficiencies for spectators\n",
        "        :param features: using features (if None then use classifier's spectators)\n",
        "        :type features: None or list[str]\n",
        "        :param bins: bins for histogram\n",
        "        :type bins: int or array-like\n",
        "        :param mask: mask for data, which will be used\n",
        "        :type mask: None or numbers.Number or array-like or str or function(pandas.DataFrame)\n",
        "        :param list[float] thresholds: thresholds on prediction\n",
        "        :param bool errors: if True then use errorbar, else interpolate function\n",
        "        :param labels_dict: label -- name for class label\n",
        "            if None then {0: 'bck', '1': 'signal'}\n",
        "        :type labels_dict: None or OrderedDict(int: str)\n",
        "        :param int grid_columns: count of columns in grid\n",
        "        :param float ignored_sideband: (0, 1) percent of plotting data\n",
        "        :rtype: plotting.GridPlot\n",
        "        \"\"\"\n",
        "        mask, data, class_labels, weight = self._apply_mask(\n",
        "            mask, self._get_features(features), self.target, self.weight)\n",
        "        labels_dict = self._check_labels(labels_dict, class_labels)\n",
        "\n",
        "        plots = []\n",
        "        for feature in data.columns:\n",
        "            for name, prediction in self.prediction.items():\n",
        "                prediction = prediction[mask]\n",
        "                eff = OrderedDict()\n",
        "                for label, label_name in labels_dict.items():\n",
        "                    label_mask = class_labels == label\n",
        "                    eff[label_name] = utils.get_efficiencies(prediction[label_mask, label],\n",
        "                                                             data[feature][label_mask].values,\n",
        "                                                             bins_number=bins,\n",
        "                                                             sample_weight=weight[label_mask],\n",
        "                                                             thresholds=thresholds, errors=errors,\n",
        "                                                             ignored_sideband=ignored_sideband)\n",
        "\n",
        "                for label_name, eff_data in eff.items():\n",
        "                    if errors:\n",
        "                        plot_fig = plotting.ErrorPlot(eff_data)\n",
        "                    else:\n",
        "                        plot_fig = plotting.FunctionsPlot(eff_data)\n",
        "                    plot_fig.xlabel = feature\n",
        "                    plot_fig.ylabel = 'Efficiency for {}'.format(name)\n",
        "                    plot_fig.title = '{} flatness'.format(label_name)\n",
        "                    plot_fig.ylim = (0, 1)\n",
        "                    plots.append(plot_fig)\n",
        "\n",
        "        return plotting.GridPlot(grid_columns, *plots)"
      ]
    },
    {
      "cell_type": "code",
      "execution_count": 26,
      "metadata": {
        "id": "VZYm7TqefGX8"
      },
      "outputs": [],
      "source": [
        "def check_arrays(*arrays):\n",
        "    \"\"\"\n",
        "    Left for consistency, version of `sklearn.validation.check_arrays`\n",
        "    :param list[iterable] arrays: arrays with same length of first dimension.\n",
        "    \"\"\"\n",
        "    assert len(arrays) > 0, 'The number of array must be greater than zero'\n",
        "    checked_arrays = []\n",
        "    shapes = []\n",
        "    for arr in arrays:\n",
        "        if arr is not None:\n",
        "            checked_arrays.append(numpy.array(arr))\n",
        "            shapes.append(checked_arrays[-1].shape[0])\n",
        "        else:\n",
        "            checked_arrays.append(None)\n",
        "    assert numpy.sum(numpy.array(shapes) == shapes[0]) == len(shapes), 'Different shapes of the arrays {}'.format(\n",
        "        shapes)\n",
        "    return checked_arrays"
      ]
    },
    {
      "cell_type": "code",
      "execution_count": 27,
      "metadata": {
        "id": "FaobIwMhfGX-"
      },
      "outputs": [],
      "source": [
        "def get_efficiencies(prediction, spectator, sample_weight=None, bins_number=20,\n",
        "                     thresholds=None, errors=False, ignored_sideband=0.0):\n",
        "    \"\"\"\n",
        "    Construct efficiency function dependent on spectator for each threshold\n",
        "    Different score functions available: Efficiency, Precision, Recall, F1Score,\n",
        "    and other things from sklearn.metrics\n",
        "    :param prediction: list of probabilities\n",
        "    :param spectator: list of spectator's values\n",
        "    :param bins_number: int, count of bins for plot\n",
        "    :param thresholds: list of prediction's threshold\n",
        "        (default=prediction's cuts for which efficiency will be [0.2, 0.4, 0.5, 0.6, 0.8])\n",
        "    :return:\n",
        "        if errors=False\n",
        "        OrderedDict threshold -> (x_values, y_values)\n",
        "        if errors=True\n",
        "        OrderedDict threshold -> (x_values, y_values, y_err, x_err)\n",
        "        All the parts: x_values, y_values, y_err, x_err are numpy.arrays of the same length.\n",
        "    \"\"\"\n",
        "    prediction, spectator, sample_weight = \\\n",
        "        check_arrays(prediction, spectator, sample_weight)\n",
        "\n",
        "    spectator_min, spectator_max = weighted_quantile(spectator, [ignored_sideband, (1. - ignored_sideband)])\n",
        "    mask = (spectator >= spectator_min) & (spectator <= spectator_max)\n",
        "    spectator = spectator[mask]\n",
        "    prediction = prediction[mask]\n",
        "    bins_number = min(bins_number, len(prediction))\n",
        "    sample_weight = sample_weight if sample_weight is None else numpy.array(sample_weight)[mask]\n",
        "\n",
        "    if thresholds is None:\n",
        "        thresholds = [weighted_quantile(prediction, quantiles=1 - eff, sample_weight=sample_weight)\n",
        "                      for eff in [0.2, 0.4, 0.5, 0.6, 0.8]]\n",
        "\n",
        "    binner = Binner(spectator, bins_number=bins_number)\n",
        "    if sample_weight is None:\n",
        "        sample_weight = numpy.ones(len(prediction))\n",
        "    bins_data = binner.split_into_bins(spectator, prediction, sample_weight)\n",
        "\n",
        "    bin_edges = numpy.array([spectator_min] + list(binner.limits) + [spectator_max])\n",
        "    xerr = numpy.diff(bin_edges) / 2.\n",
        "    result = OrderedDict()\n",
        "    for threshold in thresholds:\n",
        "        x_values = []\n",
        "        y_values = []\n",
        "        N_in_bin = []\n",
        "        for num, (masses, probabilities, weights) in enumerate(bins_data):\n",
        "            y_values.append(numpy.average(probabilities > threshold, weights=weights))\n",
        "            N_in_bin.append(numpy.sum(weights))\n",
        "            if errors:\n",
        "                x_values.append((bin_edges[num + 1] + bin_edges[num]) / 2.)\n",
        "            else:\n",
        "                x_values.append(numpy.mean(masses))\n",
        "\n",
        "        x_values, y_values, N_in_bin = check_arrays(x_values, y_values, N_in_bin)\n",
        "        if errors:\n",
        "            result[threshold] = (x_values, y_values, numpy.sqrt(y_values * (1 - y_values) / N_in_bin), xerr)\n",
        "        else:\n",
        "            result[threshold] = (x_values, y_values)\n",
        "    return result"
      ]
    },
    {
      "cell_type": "code",
      "execution_count": 28,
      "metadata": {
        "id": "1u7lfcKDfGX_"
      },
      "outputs": [],
      "source": [
        "def weighted_quantile(array, quantiles, sample_weight=None, array_sorted=False, old_style=False):\n",
        "    \"\"\"Computing quantiles of array. Unlike the numpy.percentile, this function supports weights,\n",
        "    but it is inefficient and performs complete sorting.\n",
        "    :param array: distribution, array of shape [n_samples]\n",
        "    :param quantiles: floats from range [0, 1] with quantiles of shape [n_quantiles]\n",
        "    :param sample_weight: optional weights of samples, array of shape [n_samples]\n",
        "    :param array_sorted: if True, the sorting step will be skipped\n",
        "    :param old_style: if True, will correct output to be consistent with numpy.percentile.\n",
        "    :return: array of shape [n_quantiles]\n",
        "    Example:\n",
        "    >>> weighted_quantile([1, 2, 3, 4, 5], [0.5])\n",
        "    Out: array([ 3.])\n",
        "    >>> weighted_quantile([1, 2, 3, 4, 5], [0.5], sample_weight=[3, 1, 1, 1, 1])\n",
        "    Out: array([ 2.])\n",
        "    \"\"\"\n",
        "    array = numpy.array(array)\n",
        "    quantiles = numpy.array(quantiles)\n",
        "    sample_weight = check_sample_weight(array, sample_weight)\n",
        "    assert numpy.all(quantiles >= 0) and numpy.all(quantiles <= 1), 'Percentiles should be in [0, 1]'\n",
        "\n",
        "    if not array_sorted:\n",
        "        array, sample_weight = reorder_by_first(array, sample_weight)\n",
        "\n",
        "    weighted_quantiles = numpy.cumsum(sample_weight) - 0.5 * sample_weight\n",
        "    if old_style:\n",
        "        # To be convenient with numpy.percentile\n",
        "        weighted_quantiles -= weighted_quantiles[0]\n",
        "        weighted_quantiles /= weighted_quantiles[-1]\n",
        "    else:\n",
        "        weighted_quantiles /= numpy.sum(sample_weight)\n",
        "    return numpy.interp(quantiles, weighted_quantiles, array)\n"
      ]
    },
    {
      "cell_type": "code",
      "execution_count": 29,
      "metadata": {
        "id": "FPwAIidBfGYA"
      },
      "outputs": [],
      "source": [
        "def check_sample_weight(y_true, sample_weight):\n",
        "    \"\"\"Checks the weights, if None, returns array.\n",
        "    :param y_true: labels (or any array of length [n_samples])\n",
        "    :param sample_weight: None or array of length [n_samples]\n",
        "    :return: numpy.array of shape [n_samples]\n",
        "    \"\"\"\n",
        "    if sample_weight is None:\n",
        "        return numpy.ones(len(y_true), dtype=numpy.float)\n",
        "    else:\n",
        "        sample_weight = numpy.array(sample_weight, dtype=numpy.float)\n",
        "        assert len(y_true) == len(sample_weight), \\\n",
        "            \"The length of weights is different: not {0}, but {1}\".format(len(y_true), len(sample_weight))\n",
        "        return sample_weight\n",
        "\n"
      ]
    },
    {
      "cell_type": "code",
      "execution_count": 30,
      "metadata": {
        "id": "FEMHSE8AfGYB"
      },
      "outputs": [],
      "source": [
        "\n",
        "def reorder_by_first(*arrays):\n",
        "    \"\"\"\n",
        "    Applies the same permutation to all passed arrays,\n",
        "    permutation sorts the first passed array\n",
        "    \"\"\"\n",
        "    arrays = check_arrays(*arrays)\n",
        "    order = numpy.argsort(arrays[0])\n",
        "    return [arr[order] for arr in arrays]\n",
        "\n",
        "class Binner(object):\n",
        "    def __init__(self, values, bins_number):\n",
        "        \"\"\"\n",
        "        Binner is a class that helps to split the values into several bins.\n",
        "        Initially an array of values is given, which is then splitted into 'bins_number' equal parts,\n",
        "        and thus we are computing limits (boundaries of bins).\n",
        "        \"\"\"\n",
        "        percentiles = [i * 100.0 / bins_number for i in range(1, bins_number)]\n",
        "        self.limits = numpy.percentile(values, percentiles)\n",
        "\n",
        "    def get_bins(self, values):\n",
        "        \"\"\"Given the values of feature, compute the index of bin\n",
        "        :param values: array of shape [n_samples]\n",
        "        :return: array of shape [n_samples]\n",
        "        \"\"\"\n",
        "        return numpy.searchsorted(self.limits, values)\n",
        "\n",
        "    def set_limits(self, limits):\n",
        "        \"\"\"Change the thresholds inside bins.\"\"\"\n",
        "        self.limits = limits\n",
        "\n",
        "    @property\n",
        "    def bins_number(self):\n",
        "        \"\"\":return: number of bins\"\"\"\n",
        "        return len(self.limits) + 1\n",
        "\n",
        "    def split_into_bins(self, *arrays):\n",
        "        \"\"\"\n",
        "        :param arrays: data to be splitted, the first array corresponds\n",
        "        :return: sequence of length [n_bins] with values corresponding to each bin.\n",
        "        \"\"\"\n",
        "        values = arrays[0]\n",
        "        for array in arrays:\n",
        "            assert len(array) == len(values), \"passed arrays have different length\"\n",
        "        bins = self.get_bins(values)\n",
        "        result = []\n",
        "        for bin in range(len(self.limits) + 1):\n",
        "            indices = bins == bin\n",
        "            result.append([numpy.array(array)[indices] for array in arrays])\n",
        "        return result\n",
        "from collections import OrderedDict\n"
      ]
    },
    {
      "cell_type": "code",
      "execution_count": 31,
      "metadata": {
        "id": "b_EfwJ4BfGYC",
        "colab": {
          "base_uri": "https://localhost:8080/"
        },
        "outputId": "75e88563-81ac-456e-b2c5-c86ef7503ada"
      },
      "outputs": [
        {
          "output_type": "stream",
          "name": "stderr",
          "text": [
            "/usr/local/lib/python3.7/dist-packages/ipykernel_launcher.py:8: DeprecationWarning: `np.float` is a deprecated alias for the builtin `float`. To silence this warning, use `float` by itself. Doing this will not modify any behavior and is safe. If you specifically wanted the numpy scalar type, use `np.float64` here.\n",
            "Deprecated in NumPy 1.20; for more details and guidance: https://numpy.org/devdocs/release/1.20.0-notes.html#deprecations\n",
            "  \n"
          ]
        }
      ],
      "source": [
        "eff = get_efficiencies(y_pred, df_corr_check.mass, thresholds=[0.5]) #, thresholds=[0.2, 0.4, 0.5, 0.6, 0.8])"
      ]
    },
    {
      "cell_type": "code",
      "execution_count": 32,
      "metadata": {
        "id": "Et87cbd4fGYD",
        "outputId": "d9358883-7609-4740-b441-206c45cea6fc",
        "colab": {
          "base_uri": "https://localhost:8080/"
        }
      },
      "outputs": [
        {
          "output_type": "execute_result",
          "data": {
            "text/plain": [
              "odict_keys([0.5])"
            ]
          },
          "metadata": {},
          "execution_count": 32
        }
      ],
      "source": [
        "eff.keys()"
      ]
    },
    {
      "cell_type": "code",
      "execution_count": 33,
      "metadata": {
        "id": "GbtedzdAfGYD",
        "outputId": "01adb644-6b61-49f6-e91b-d07028362ec5",
        "colab": {
          "base_uri": "https://localhost:8080/",
          "height": 279
        }
      },
      "outputs": [
        {
          "output_type": "display_data",
          "data": {
            "image/png": "[encoded data removed]",
            "text/plain": [
              "<Figure size 432x288 with 1 Axes>"
            ]
          },
          "metadata": {
            "needs_background": "light"
          }
        }
      ],
      "source": [
        "for label_name, eff_data in eff.items():\n",
        "    pyplot.plot(eff_data[0], eff_data[1], label=\"global eff  %.1f\" % label_name)\n",
        "pyplot.xlabel('mass')\n",
        "pyplot.ylabel('Efficiency')\n",
        "pyplot.legend();"
      ]
    },
    {
      "cell_type": "code",
      "execution_count": 34,
      "metadata": {
        "id": "hDL-pu6IfGYF"
      },
      "outputs": [],
      "source": [
        "from utils import check_correlation"
      ]
    },
    {
      "cell_type": "code",
      "execution_count": 35,
      "metadata": {
        "id": "X0QSKiAOfGYF",
        "outputId": "602dfda0-c1a6-4f44-9da5-0c8e911c872a",
        "colab": {
          "base_uri": "https://localhost:8080/"
        }
      },
      "outputs": [
        {
          "output_type": "stream",
          "name": "stdout",
          "text": [
            "0.00018714693455449124\n"
          ]
        }
      ],
      "source": [
        "corr_metric = check_correlation(y_pred, df_corr_check['mass'])\n",
        "print (corr_metric)"
      ]
    },
    {
      "cell_type": "markdown",
      "metadata": {
        "id": "kRFJUkqqfGYG"
      },
      "source": [
        "## MC vs Real difference"
      ]
    },
    {
      "cell_type": "code",
      "execution_count": 36,
      "metadata": {
        "id": "EWo1mKm3fGYG"
      },
      "outputs": [],
      "source": [
        "df_agreement = pandas.read_csv('https://github.com/hse-aml/hadron-collider-machine-learning/releases/download/Week_3/check_agreement.csv.gz')"
      ]
    },
    {
      "cell_type": "code",
      "execution_count": 37,
      "metadata": {
        "id": "P5z0mwRYfGYH"
      },
      "outputs": [],
      "source": [
        "\n",
        "from sklearn.utils.validation import column_or_1d\n",
        "def get_ks_metric(df_agree, df_test):\n",
        "    sig_ind = df_agree[df_agree['signal'] == 1].index\n",
        "    bck_ind = df_agree[df_agree['signal'] == 0].index\n",
        "\n",
        "    mc_prob = numpy.array(df_test.loc[sig_ind]['prediction'])\n",
        "    mc_weight = numpy.array(df_agree.loc[sig_ind]['weight'])\n",
        "    data_prob = numpy.array(df_test.loc[bck_ind]['prediction'])\n",
        "    data_weight = numpy.array(df_agree.loc[bck_ind]['weight'])\n",
        "    val, agreement_metric = check_agreement_ks_sample_weighted(data_prob, mc_prob, data_weight, mc_weight)\n",
        "    return agreement_metric['ks']"
      ]
    },
    {
      "cell_type": "code",
      "execution_count": 38,
      "metadata": {
        "id": "_15z2juEfGYH"
      },
      "outputs": [],
      "source": [
        "def check_agreement_ks_sample_weighted (data_prediction, mc_prediction, weights_data, weights_mc):\n",
        "    data_prediction, weights_data = map(column_or_1d, [data_prediction, weights_data])\n",
        "    mc_prediction, weights_mc = map(column_or_1d, [mc_prediction, weights_mc])\n",
        "\n",
        "    assert numpy.all(data_prediction >= 0.) and numpy.all(data_prediction <= 1.), 'error in prediction'\n",
        "    assert numpy.all(mc_prediction >= 0.) and numpy.all(mc_prediction <= 1.), 'error in prediction'\n",
        "\n",
        "    weights_data = weights_data / numpy.sum(weights_data)\n",
        "    weights_mc = weights_mc / numpy.sum(weights_mc)\n",
        "\n",
        "    data_neg = data_prediction[weights_data < 0]\n",
        "    weights_neg = -weights_data[weights_data < 0]\n",
        "    mc_prediction = numpy.concatenate((mc_prediction, data_neg))\n",
        "    weights_mc = numpy.concatenate((weights_mc, weights_neg))\n",
        "    data_prediction = data_prediction[weights_data >= 0]\n",
        "    weights_data = weights_data[weights_data >= 0]\n",
        "\n",
        "    assert numpy.all(weights_data >= 0) and numpy.all(weights_mc >= 0)\n",
        "    assert numpy.allclose(weights_data.sum(), weights_mc.sum())\n",
        "\n",
        "    weights_data /= numpy.sum(weights_data)\n",
        "    weights_mc /= numpy.sum(weights_mc)\n",
        "\n",
        "    fpr, tpr, _ = roc_curve_splitted(data_prediction, mc_prediction, weights_data, weights_mc)\n",
        "\n",
        "    Dnm = numpy.max(numpy.abs(fpr - tpr))\n",
        "    Dnm_part = numpy.max(numpy.abs(fpr - tpr)[fpr + tpr < 1])\n",
        "\n",
        "    result = {'ks': Dnm, 'ks_part': Dnm_part}\n",
        "    return Dnm_part < 0.03, result"
      ]
    },
    {
      "cell_type": "code",
      "execution_count": 39,
      "metadata": {
        "id": "4wSPKS2LfGYI",
        "outputId": "64a84614-d51f-43cc-f95d-fee468b83f2b",
        "colab": {
          "base_uri": "https://localhost:8080/"
        }
      },
      "outputs": [
        {
          "output_type": "execute_result",
          "data": {
            "text/plain": [
              "Index(['id', 'LifeTime', 'dira', 'FlightDistance', 'FlightDistanceError', 'IP',\n",
              "       'IPSig', 'VertexChi2', 'pt', 'DOCAone', 'DOCAtwo', 'DOCAthree',\n",
              "       'IP_p0p2', 'IP_p1p2', 'isolationa', 'isolationb', 'isolationc',\n",
              "       'isolationd', 'isolatione', 'isolationf', 'iso', 'CDF1', 'CDF2', 'CDF3',\n",
              "       'ISO_SumBDT', 'p0_IsoBDT', 'p1_IsoBDT', 'p2_IsoBDT', 'p0_track_Chi2Dof',\n",
              "       'p1_track_Chi2Dof', 'p2_track_Chi2Dof', 'p0_IP', 'p1_IP', 'p2_IP',\n",
              "       'p0_IPSig', 'p1_IPSig', 'p2_IPSig', 'p0_pt', 'p1_pt', 'p2_pt', 'p0_p',\n",
              "       'p1_p', 'p2_p', 'p0_eta', 'p1_eta', 'p2_eta', 'SPDhits', 'signal',\n",
              "       'weight'],\n",
              "      dtype='object')"
            ]
          },
          "metadata": {},
          "execution_count": 39
        }
      ],
      "source": [
        "df_agreement.columns"
      ]
    },
    {
      "cell_type": "code",
      "execution_count": 40,
      "metadata": {
        "id": "JZiSikq0fGYJ",
        "outputId": "888951ad-9477-4825-fc59-4b7c86123234",
        "colab": {
          "base_uri": "https://localhost:8080/",
          "height": 270
        }
      },
      "outputs": [
        {
          "output_type": "execute_result",
          "data": {
            "text/html": [
              "\n",
              "  <div id=\"df-c866f5ee-a344-4a24-a4a2-bf60f64977bf\">\n",
              "    <div class=\"colab-df-container\">\n",
              "      <div>\n",
              "<style scoped>\n",
              "    .dataframe tbody tr th:only-of-type {\n",
              "        vertical-align: middle;\n",
              "    }\n",
              "\n",
              "    .dataframe tbody tr th {\n",
              "        vertical-align: top;\n",
              "    }\n",
              "\n",
              "    .dataframe thead th {\n",
              "        text-align: right;\n",
              "    }\n",
              "</style>\n",
              "<table border=\"1\" class=\"dataframe\">\n",
              "  <thead>\n",
              "    <tr style=\"text-align: right;\">\n",
              "      <th></th>\n",
              "      <th>IP</th>\n",
              "      <th>p2_pt</th>\n",
              "      <th>ISO_SumBDT</th>\n",
              "      <th>CDF2</th>\n",
              "      <th>p1_eta</th>\n",
              "      <th>p1_IsoBDT</th>\n",
              "      <th>DOCAthree</th>\n",
              "      <th>p0_IPSig</th>\n",
              "      <th>p1_pt</th>\n",
              "      <th>p0_IP</th>\n",
              "      <th>isolationb</th>\n",
              "      <th>isolationc</th>\n",
              "      <th>isolationf</th>\n",
              "      <th>VertexChi2</th>\n",
              "      <th>FlightDistance</th>\n",
              "      <th>p1_p</th>\n",
              "      <th>p2_track_Chi2Dof</th>\n",
              "      <th>IPSig</th>\n",
              "      <th>IP_p0p2</th>\n",
              "      <th>p2_IPSig</th>\n",
              "      <th>pt</th>\n",
              "      <th>DOCAone</th>\n",
              "      <th>CDF1</th>\n",
              "      <th>CDF3</th>\n",
              "      <th>p2_eta</th>\n",
              "      <th>p0_track_Chi2Dof</th>\n",
              "      <th>SPDhits</th>\n",
              "      <th>p2_IsoBDT</th>\n",
              "      <th>p1_IPSig</th>\n",
              "      <th>iso</th>\n",
              "      <th>p1_track_Chi2Dof</th>\n",
              "      <th>isolationd</th>\n",
              "      <th>p0_eta</th>\n",
              "      <th>isolationa</th>\n",
              "      <th>dira</th>\n",
              "      <th>LifeTime</th>\n",
              "      <th>IP_p1p2</th>\n",
              "      <th>p1_IP</th>\n",
              "      <th>p0_pt</th>\n",
              "      <th>p0_IsoBDT</th>\n",
              "      <th>p2_p</th>\n",
              "      <th>DOCAtwo</th>\n",
              "      <th>isolatione</th>\n",
              "      <th>p2_IP</th>\n",
              "      <th>FlightDistanceError</th>\n",
              "      <th>p0_p</th>\n",
              "    </tr>\n",
              "  </thead>\n",
              "  <tbody>\n",
              "    <tr>\n",
              "      <th>0</th>\n",
              "      <td>0.058117</td>\n",
              "      <td>834.562378</td>\n",
              "      <td>-0.207475</td>\n",
              "      <td>0.492269</td>\n",
              "      <td>3.302978</td>\n",
              "      <td>-0.089797</td>\n",
              "      <td>0.066887</td>\n",
              "      <td>24.701061</td>\n",
              "      <td>468.645721</td>\n",
              "      <td>0.483199</td>\n",
              "      <td>6</td>\n",
              "      <td>1</td>\n",
              "      <td>1.0</td>\n",
              "      <td>7.953543</td>\n",
              "      <td>6.945030</td>\n",
              "      <td>6380.673828</td>\n",
              "      <td>1.487057</td>\n",
              "      <td>2.961298</td>\n",
              "      <td>0.185107</td>\n",
              "      <td>8.853514</td>\n",
              "      <td>2251.611816</td>\n",
              "      <td>0.082219</td>\n",
              "      <td>0.732076</td>\n",
              "      <td>0.179091</td>\n",
              "      <td>3.594246</td>\n",
              "      <td>0.606178</td>\n",
              "      <td>512</td>\n",
              "      <td>-0.098372</td>\n",
              "      <td>10.732132</td>\n",
              "      <td>4.0</td>\n",
              "      <td>0.862549</td>\n",
              "      <td>2.0</td>\n",
              "      <td>2.666142</td>\n",
              "      <td>8</td>\n",
              "      <td>0.999964</td>\n",
              "      <td>0.001451</td>\n",
              "      <td>0.214719</td>\n",
              "      <td>0.474925</td>\n",
              "      <td>1438.064697</td>\n",
              "      <td>-0.019306</td>\n",
              "      <td>15195.594727</td>\n",
              "      <td>0.084005</td>\n",
              "      <td>1.0</td>\n",
              "      <td>0.426797</td>\n",
              "      <td>0.229196</td>\n",
              "      <td>10392.814453</td>\n",
              "    </tr>\n",
              "    <tr>\n",
              "      <th>1</th>\n",
              "      <td>0.189683</td>\n",
              "      <td>2861.309814</td>\n",
              "      <td>-0.659644</td>\n",
              "      <td>0.605835</td>\n",
              "      <td>2.834816</td>\n",
              "      <td>-0.186370</td>\n",
              "      <td>0.001321</td>\n",
              "      <td>11.312134</td>\n",
              "      <td>7547.703613</td>\n",
              "      <td>0.712242</td>\n",
              "      <td>6</td>\n",
              "      <td>17</td>\n",
              "      <td>1.0</td>\n",
              "      <td>7.141451</td>\n",
              "      <td>9.468235</td>\n",
              "      <td>64480.023438</td>\n",
              "      <td>1.336784</td>\n",
              "      <td>14.413060</td>\n",
              "      <td>0.039357</td>\n",
              "      <td>7.737038</td>\n",
              "      <td>10594.470703</td>\n",
              "      <td>0.007983</td>\n",
              "      <td>0.802508</td>\n",
              "      <td>0.584701</td>\n",
              "      <td>2.779366</td>\n",
              "      <td>1.900118</td>\n",
              "      <td>552</td>\n",
              "      <td>-0.194944</td>\n",
              "      <td>16.435398</td>\n",
              "      <td>3.0</td>\n",
              "      <td>1.073474</td>\n",
              "      <td>1.0</td>\n",
              "      <td>2.995265</td>\n",
              "      <td>5</td>\n",
              "      <td>0.999818</td>\n",
              "      <td>0.000679</td>\n",
              "      <td>0.217507</td>\n",
              "      <td>0.260311</td>\n",
              "      <td>316.791351</td>\n",
              "      <td>-0.278330</td>\n",
              "      <td>23134.953125</td>\n",
              "      <td>0.044154</td>\n",
              "      <td>1.0</td>\n",
              "      <td>0.123877</td>\n",
              "      <td>0.517488</td>\n",
              "      <td>3174.356934</td>\n",
              "    </tr>\n",
              "    <tr>\n",
              "      <th>2</th>\n",
              "      <td>0.231709</td>\n",
              "      <td>932.128235</td>\n",
              "      <td>-0.399239</td>\n",
              "      <td>0.682607</td>\n",
              "      <td>3.204923</td>\n",
              "      <td>-0.131069</td>\n",
              "      <td>0.005850</td>\n",
              "      <td>16.435801</td>\n",
              "      <td>317.579529</td>\n",
              "      <td>0.381544</td>\n",
              "      <td>2</td>\n",
              "      <td>1</td>\n",
              "      <td>1.0</td>\n",
              "      <td>4.778880</td>\n",
              "      <td>13.280714</td>\n",
              "      <td>3921.181641</td>\n",
              "      <td>0.798658</td>\n",
              "      <td>11.973175</td>\n",
              "      <td>0.335788</td>\n",
              "      <td>44.521961</td>\n",
              "      <td>2502.196289</td>\n",
              "      <td>0.045085</td>\n",
              "      <td>0.682607</td>\n",
              "      <td>0.295038</td>\n",
              "      <td>3.081832</td>\n",
              "      <td>0.660675</td>\n",
              "      <td>318</td>\n",
              "      <td>-0.152291</td>\n",
              "      <td>20.686119</td>\n",
              "      <td>1.0</td>\n",
              "      <td>1.683084</td>\n",
              "      <td>0.0</td>\n",
              "      <td>2.776633</td>\n",
              "      <td>2</td>\n",
              "      <td>0.999847</td>\n",
              "      <td>0.003027</td>\n",
              "      <td>0.885080</td>\n",
              "      <td>1.163556</td>\n",
              "      <td>1887.477905</td>\n",
              "      <td>-0.115879</td>\n",
              "      <td>10180.791016</td>\n",
              "      <td>0.106614</td>\n",
              "      <td>0.0</td>\n",
              "      <td>1.290409</td>\n",
              "      <td>0.219291</td>\n",
              "      <td>15219.761719</td>\n",
              "    </tr>\n",
              "    <tr>\n",
              "      <th>3</th>\n",
              "      <td>0.011298</td>\n",
              "      <td>2617.248291</td>\n",
              "      <td>-0.821041</td>\n",
              "      <td>0.533615</td>\n",
              "      <td>2.769762</td>\n",
              "      <td>-0.177802</td>\n",
              "      <td>0.003864</td>\n",
              "      <td>24.878387</td>\n",
              "      <td>1650.837524</td>\n",
              "      <td>0.564650</td>\n",
              "      <td>4</td>\n",
              "      <td>3</td>\n",
              "      <td>0.0</td>\n",
              "      <td>5.528002</td>\n",
              "      <td>5.166821</td>\n",
              "      <td>13221.149414</td>\n",
              "      <td>0.938619</td>\n",
              "      <td>0.891142</td>\n",
              "      <td>0.076522</td>\n",
              "      <td>9.630725</td>\n",
              "      <td>5097.813965</td>\n",
              "      <td>0.055115</td>\n",
              "      <td>0.533615</td>\n",
              "      <td>0.533615</td>\n",
              "      <td>2.918251</td>\n",
              "      <td>0.770563</td>\n",
              "      <td>290</td>\n",
              "      <td>-0.434991</td>\n",
              "      <td>7.873435</td>\n",
              "      <td>0.0</td>\n",
              "      <td>1.093031</td>\n",
              "      <td>0.0</td>\n",
              "      <td>2.179345</td>\n",
              "      <td>4</td>\n",
              "      <td>0.999998</td>\n",
              "      <td>0.000810</td>\n",
              "      <td>0.068347</td>\n",
              "      <td>0.164411</td>\n",
              "      <td>975.041687</td>\n",
              "      <td>-0.208248</td>\n",
              "      <td>24291.875000</td>\n",
              "      <td>0.038642</td>\n",
              "      <td>0.0</td>\n",
              "      <td>0.166646</td>\n",
              "      <td>0.167886</td>\n",
              "      <td>4365.082520</td>\n",
              "    </tr>\n",
              "    <tr>\n",
              "      <th>4</th>\n",
              "      <td>0.160511</td>\n",
              "      <td>4763.682617</td>\n",
              "      <td>-1.116815</td>\n",
              "      <td>0.926410</td>\n",
              "      <td>2.262732</td>\n",
              "      <td>-0.443564</td>\n",
              "      <td>0.014612</td>\n",
              "      <td>28.557213</td>\n",
              "      <td>9657.492188</td>\n",
              "      <td>0.373736</td>\n",
              "      <td>1</td>\n",
              "      <td>0</td>\n",
              "      <td>0.0</td>\n",
              "      <td>8.670339</td>\n",
              "      <td>10.897236</td>\n",
              "      <td>46903.394531</td>\n",
              "      <td>1.123868</td>\n",
              "      <td>16.367550</td>\n",
              "      <td>0.249906</td>\n",
              "      <td>7.389726</td>\n",
              "      <td>20388.097656</td>\n",
              "      <td>0.015587</td>\n",
              "      <td>0.926410</td>\n",
              "      <td>0.926410</td>\n",
              "      <td>2.310401</td>\n",
              "      <td>1.080559</td>\n",
              "      <td>45</td>\n",
              "      <td>-0.344313</td>\n",
              "      <td>18.738485</td>\n",
              "      <td>0.0</td>\n",
              "      <td>1.471946</td>\n",
              "      <td>0.0</td>\n",
              "      <td>2.196114</td>\n",
              "      <td>0</td>\n",
              "      <td>0.999896</td>\n",
              "      <td>0.000706</td>\n",
              "      <td>0.139937</td>\n",
              "      <td>0.230584</td>\n",
              "      <td>6035.000977</td>\n",
              "      <td>-0.328938</td>\n",
              "      <td>24241.628906</td>\n",
              "      <td>0.020872</td>\n",
              "      <td>0.0</td>\n",
              "      <td>0.112430</td>\n",
              "      <td>0.284975</td>\n",
              "      <td>27463.011719</td>\n",
              "    </tr>\n",
              "  </tbody>\n",
              "</table>\n",
              "</div>\n",
              "      <button class=\"colab-df-convert\" onclick=\"convertToInteractive('df-c866f5ee-a344-4a24-a4a2-bf60f64977bf')\"\n",
              "              title=\"Convert this dataframe to an interactive table.\"\n",
              "              style=\"display:none;\">\n",
              "        \n",
              "  <svg xmlns=\"http://www.w3.org/2000/svg\" height=\"24px\"viewBox=\"0 0 24 24\"\n",
              "       width=\"24px\">\n",
              "    <path d=\"M0 0h24v24H0V0z\" fill=\"none\"/>\n",
              "    <path d=\"M18.56 5.44l.94 2.06.94-2.06 2.06-.94-2.06-.94-.94-2.06-.94 2.06-2.06.94zm-11 1L8.5 8.5l.94-2.06 2.06-.94-2.06-.94L8.5 2.5l-.94 2.06-2.06.94zm10 10l.94 2.06.94-2.06 2.06-.94-2.06-.94-.94-2.06-.94 2.06-2.06.94z\"/><path d=\"M17.41 7.96l-1.37-1.37c-.4-.4-.92-.59-1.43-.59-.52 0-1.04.2-1.43.59L10.3 9.45l-7.72 7.72c-.78.78-.78 2.05 0 2.83L4 21.41c.39.39.9.59 1.41.59.51 0 1.02-.2 1.41-.59l7.78-7.78 2.81-2.81c.8-.78.8-2.07 0-2.86zM5.41 20L4 18.59l7.72-7.72 1.47 1.35L5.41 20z\"/>\n",
              "  </svg>\n",
              "      </button>\n",
              "      \n",
              "  <style>\n",
              "    .colab-df-container {\n",
              "      display:flex;\n",
              "      flex-wrap:wrap;\n",
              "      gap: 12px;\n",
              "    }\n",
              "\n",
              "    .colab-df-convert {\n",
              "      background-color: #E8F0FE;\n",
              "      border: none;\n",
              "      border-radius: 50%;\n",
              "      cursor: pointer;\n",
              "      display: none;\n",
              "      fill: #1967D2;\n",
              "      height: 32px;\n",
              "      padding: 0 0 0 0;\n",
              "      width: 32px;\n",
              "    }\n",
              "\n",
              "    .colab-df-convert:hover {\n",
              "      background-color: #E2EBFA;\n",
              "      box-shadow: 0px 1px 2px rgba(60, 64, 67, 0.3), 0px 1px 3px 1px rgba(60, 64, 67, 0.15);\n",
              "      fill: #174EA6;\n",
              "    }\n",
              "\n",
              "    [theme=dark] .colab-df-convert {\n",
              "      background-color: #3B4455;\n",
              "      fill: #D2E3FC;\n",
              "    }\n",
              "\n",
              "    [theme=dark] .colab-df-convert:hover {\n",
              "      background-color: #434B5C;\n",
              "      box-shadow: 0px 1px 3px 1px rgba(0, 0, 0, 0.15);\n",
              "      filter: drop-shadow(0px 1px 2px rgba(0, 0, 0, 0.3));\n",
              "      fill: #FFFFFF;\n",
              "    }\n",
              "  </style>\n",
              "\n",
              "      <script>\n",
              "        const buttonEl =\n",
              "          document.querySelector('#df-c866f5ee-a344-4a24-a4a2-bf60f64977bf button.colab-df-convert');\n",
              "        buttonEl.style.display =\n",
              "          google.colab.kernel.accessAllowed ? 'block' : 'none';\n",
              "\n",
              "        async function convertToInteractive(key) {\n",
              "          const element = document.querySelector('#df-c866f5ee-a344-4a24-a4a2-bf60f64977bf');\n",
              "          const dataTable =\n",
              "            await google.colab.kernel.invokeFunction('convertToInteractive',\n",
              "                                                     [key], {});\n",
              "          if (!dataTable) return;\n",
              "\n",
              "          const docLinkHtml = 'Like what you see? Visit the ' +\n",
              "            '<a target=\"_blank\" href=https://colab.research.google.com/notebooks/data_table.ipynb>data table notebook</a>'\n",
              "            + ' to learn more about interactive tables.';\n",
              "          element.innerHTML = '';\n",
              "          dataTable['output_type'] = 'display_data';\n",
              "          await google.colab.output.renderOutput(dataTable, element);\n",
              "          const docLink = document.createElement('div');\n",
              "          docLink.innerHTML = docLinkHtml;\n",
              "          element.appendChild(docLink);\n",
              "        }\n",
              "      </script>\n",
              "    </div>\n",
              "  </div>\n",
              "  "
            ],
            "text/plain": [
              "         IP        p2_pt  ...  FlightDistanceError          p0_p\n",
              "0  0.058117   834.562378  ...             0.229196  10392.814453\n",
              "1  0.189683  2861.309814  ...             0.517488   3174.356934\n",
              "2  0.231709   932.128235  ...             0.219291  15219.761719\n",
              "3  0.011298  2617.248291  ...             0.167886   4365.082520\n",
              "4  0.160511  4763.682617  ...             0.284975  27463.011719\n",
              "\n",
              "[5 rows x 46 columns]"
            ]
          },
          "metadata": {},
          "execution_count": 40
        }
      ],
      "source": [
        "df_agreement[variables].head()"
      ]
    },
    {
      "cell_type": "code",
      "execution_count": 41,
      "metadata": {
        "id": "bqtiguo6fGYJ"
      },
      "outputs": [],
      "source": [
        "def compute_ks(data_prediction, mc_prediction, weights_data, weights_mc):\n",
        "    \"\"\"\n",
        "    Compute Kolmogorov-Smirnov (ks) distance between real data predictions cdf and Monte Carlo one.\n",
        "    :param data_prediction: array-like, real data predictions\n",
        "    :param mc_prediction: array-like, Monte Carlo data predictions\n",
        "    :param weights_data: array-like, real data weights\n",
        "    :param weights_mc: array-like, Monte Carlo weights\n",
        "    :return: ks value\n",
        "    \"\"\"\n",
        "    assert len(data_prediction) == len(weights_data), 'Data length and weight one must be the same'\n",
        "    assert len(mc_prediction) == len(weights_mc), 'Data length and weight one must be the same'\n",
        "\n",
        "    data_prediction, mc_prediction = numpy.array(data_prediction), numpy.array(mc_prediction)\n",
        "    weights_data, weights_mc = numpy.array(weights_data), numpy.array(weights_mc)\n",
        "\n",
        "    assert numpy.all(data_prediction >= 0.) and numpy.all(data_prediction <= 1.), 'Data predictions are out of range [0, 1]'\n",
        "    assert numpy.all(mc_prediction >= 0.) and numpy.all(mc_prediction <= 1.), 'MC predictions are out of range [0, 1]'\n",
        "\n",
        "    weights_data /= numpy.sum(weights_data)\n",
        "    weights_mc /= numpy.sum(weights_mc)\n",
        "\n",
        "    fpr, tpr = __roc_curve_splitted(data_prediction, mc_prediction, weights_data, weights_mc)\n",
        "\n",
        "    Dnm = numpy.max(numpy.abs(fpr - tpr))\n",
        "    return Dnm"
      ]
    },
    {
      "cell_type": "code",
      "execution_count": 42,
      "metadata": {
        "id": "elz1hXgffGYK"
      },
      "outputs": [],
      "source": [
        "from sklearn.metrics import roc_curve\n",
        "def __roc_curve_splitted(data_zero, data_one, sample_weights_zero, sample_weights_one):\n",
        "    \"\"\"\n",
        "    Compute roc curve\n",
        "    :param data_zero: 0-labeled data\n",
        "    :param data_one:  1-labeled data\n",
        "    :param sample_weights_zero: weights for 0-labeled data\n",
        "    :param sample_weights_one:  weights for 1-labeled data\n",
        "    :return: roc curve\n",
        "    \"\"\"\n",
        "    labels = [0] * len(data_zero) + [1] * len(data_one)\n",
        "    weights = numpy.concatenate([sample_weights_zero, sample_weights_one])\n",
        "    data_all = numpy.concatenate([data_zero, data_one])\n",
        "    fpr, tpr, _ = roc_curve(labels, data_all, sample_weight=weights)\n",
        "    return fpr, tpr"
      ]
    },
    {
      "cell_type": "code",
      "execution_count": 43,
      "metadata": {
        "id": "oG3iV8pGfGYK",
        "outputId": "ddcc6420-3aa4-4f29-fe3e-d31d2359736d",
        "colab": {
          "base_uri": "https://localhost:8080/"
        }
      },
      "outputs": [
        {
          "output_type": "stream",
          "name": "stdout",
          "text": [
            "KS metric: 0.18058301938119575 is OK: False\n"
          ]
        }
      ],
      "source": [
        "agreement_probs = clf.predict_proba(df_agreement[variables])[:, 1]\n",
        "\n",
        "ks = compute_ks(\n",
        "    agreement_probs[df_agreement['signal'].values == 0],\n",
        "    agreement_probs[df_agreement['signal'].values == 1],\n",
        "    df_agreement[df_agreement['signal'] == 0]['weight'].values,\n",
        "    df_agreement[df_agreement['signal'] == 1]['weight'].values)\n",
        "print ('KS metric:', ks, \"is OK:\", ks < 0.09)"
      ]
    },
    {
      "cell_type": "code",
      "execution_count": 44,
      "metadata": {
        "id": "sHSAeHFrfGYL"
      },
      "outputs": [],
      "source": [
        "def plot_ks(X_agreement, y_pred):\n",
        "    sig_ind = X_agreement[X_agreement['signal'] == 1].index\n",
        "    bck_ind = X_agreement[X_agreement['signal'] == 0].index\n",
        "\n",
        "    mc_prob = y_pred[sig_ind]\n",
        "    mc_weight = numpy.array(X_agreement.loc[sig_ind]['weight'])\n",
        "    data_prob = y_pred[bck_ind]\n",
        "    data_weight = numpy.array(X_agreement.loc[bck_ind]['weight'])\n",
        "    inds = data_weight < 0\n",
        "    mc_weight = numpy.array(list(mc_weight) + list(-data_weight[inds]))\n",
        "    mc_prob = numpy.array(list(mc_prob) + list(data_prob[inds]))\n",
        "    data_prob = data_prob[data_weight >= 0]\n",
        "    data_weight = data_weight[data_weight >= 0]\n",
        "    hist(data_prob, weights=data_weight, color='r', histtype='step', density=True, bins=60, label='data')\n",
        "    hist(mc_prob, weights=mc_weight, color='b', histtype='step', density=True, bins=60, label='mc')\n",
        "    xlabel(\"prediction\")\n",
        "    legend(loc=2)\n",
        "    show()"
      ]
    },
    {
      "cell_type": "code",
      "execution_count": 45,
      "metadata": {
        "id": "lc5-RHXHfGYL",
        "outputId": "1434ba4a-b3b8-4153-dea5-761a25bdf8cf",
        "colab": {
          "base_uri": "https://localhost:8080/",
          "height": 279
        }
      },
      "outputs": [
        {
          "output_type": "display_data",
          "data": {
            "image/png": "[encoded data removed]",
            "text/plain": [
              "<Figure size 432x288 with 1 Axes>"
            ]
          },
          "metadata": {
            "needs_background": "light"
          }
        }
      ],
      "source": [
        "plot_ks(df_agreement, agreement_probs)"
      ]
    },
    {
      "cell_type": "markdown",
      "metadata": {
        "id": "iz8-JzzUfGYM"
      },
      "source": [
        "### Let's see if adding some noise can improve the agreement"
      ]
    },
    {
      "cell_type": "code",
      "execution_count": 46,
      "metadata": {
        "id": "hqbh56RJfGYM"
      },
      "outputs": [],
      "source": [
        "def add_noise(array, level=0.15, random_seed=34):\n",
        "    numpy.random.seed(random_seed)\n",
        "    return level * numpy.random.random(size=array.size) + (1 - level) * array"
      ]
    },
    {
      "cell_type": "code",
      "execution_count": 47,
      "metadata": {
        "id": "rau3oKtZfGYM"
      },
      "outputs": [],
      "source": [
        "agreement_probs_noise = add_noise(clf.predict_proba(df_agreement[variables])[:, 1])\n"
      ]
    },
    {
      "cell_type": "code",
      "execution_count": 48,
      "metadata": {
        "id": "bG7-dtJ1fGYN",
        "outputId": "4bc432f0-ca2b-4a49-fa5f-aa171cd6fd73",
        "colab": {
          "base_uri": "https://localhost:8080/"
        }
      },
      "outputs": [
        {
          "output_type": "stream",
          "name": "stdout",
          "text": [
            "KS metric: 0.10135212659004844 is OK: False\n"
          ]
        }
      ],
      "source": [
        "ks_noise = compute_ks(\n",
        "    agreement_probs_noise[df_agreement['signal'].values == 0],\n",
        "    agreement_probs_noise[df_agreement['signal'].values == 1],\n",
        "    df_agreement[df_agreement['signal'] == 0]['weight'].values,\n",
        "    df_agreement[df_agreement['signal'] == 1]['weight'].values)\n",
        "print ('KS metric:', ks_noise, \"is OK:\", ks_noise < 0.09)"
      ]
    },
    {
      "cell_type": "code",
      "execution_count": 49,
      "metadata": {
        "id": "qNhiBWKqfGYN",
        "outputId": "c2f8d016-bce9-41e7-99bd-81f4344703ab",
        "colab": {
          "base_uri": "https://localhost:8080/",
          "height": 0
        }
      },
      "outputs": [
        {
          "output_type": "display_data",
          "data": {
            "image/png": "[encoded data removed]",
            "text/plain": [
              "<Figure size 432x288 with 1 Axes>"
            ]
          },
          "metadata": {
            "needs_background": "light"
          }
        }
      ],
      "source": [
        "plot_ks(df_agreement, agreement_probs_noise)"
      ]
    },
    {
      "cell_type": "markdown",
      "metadata": {
        "id": "zXgt61EffGYN"
      },
      "source": [
        "### Check ROC with noise"
      ]
    },
    {
      "cell_type": "code",
      "execution_count": 50,
      "metadata": {
        "id": "_8rLud08fGYO",
        "outputId": "c7ab55ad-ee85-492b-ae46-ae4e644d0b3c",
        "colab": {
          "base_uri": "https://localhost:8080/"
        }
      },
      "outputs": [
        {
          "output_type": "execute_result",
          "data": {
            "text/plain": [
              "(20266, 51)"
            ]
          },
          "metadata": {},
          "execution_count": 50
        }
      ],
      "source": [
        "test.shape"
      ]
    },
    {
      "cell_type": "code",
      "execution_count": 51,
      "metadata": {
        "id": "OgP8D9w2fGYO",
        "outputId": "2515259d-54fa-4783-e4d9-49f2f22a63de",
        "colab": {
          "base_uri": "https://localhost:8080/",
          "height": 0
        }
      },
      "outputs": [
        {
          "output_type": "execute_result",
          "data": {
            "text/plain": [
              "((20266, 51), (20266,))"
            ]
          },
          "metadata": {},
          "execution_count": 51
        },
        {
          "output_type": "display_data",
          "data": {
            "image/png": "[encoded data removed]",
            "text/plain": [
              "<Figure size 432x288 with 1 Axes>"
            ]
          },
          "metadata": {
            "needs_background": "light"
          }
        }
      ],
      "source": [
        "y_pred = add_noise(clf.predict_proba(test[variables])[:, 1])\n",
        "\n",
        "plot_metrics(test['signal'], y_pred)\n",
        "test.shape, y_pred.shape"
      ]
    },
    {
      "cell_type": "markdown",
      "metadata": {
        "id": "AnvglnY3fGYO"
      },
      "source": [
        "# Train the model using the whole training sample"
      ]
    },
    {
      "cell_type": "code",
      "execution_count": 52,
      "metadata": {
        "id": "2JsPWVVVfGYP",
        "outputId": "6309e3c6-4368-4b34-bb62-773cc0928bce",
        "colab": {
          "base_uri": "https://localhost:8080/"
        }
      },
      "outputs": [
        {
          "output_type": "stream",
          "name": "stdout",
          "text": [
            "CPU times: user 2min 18s, sys: 134 ms, total: 2min 18s\n",
            "Wall time: 2min 20s\n"
          ]
        },
        {
          "output_type": "execute_result",
          "data": {
            "text/plain": [
              "AdaBoostClassifier(base_estimator=DecisionTreeClassifier(max_depth=19,\n",
              "                                                         max_features=10,\n",
              "                                                         min_samples_leaf=40,\n",
              "                                                         random_state=13),\n",
              "                   learning_rate=0.009, n_estimators=120, random_state=13)"
            ]
          },
          "metadata": {},
          "execution_count": 52
        }
      ],
      "source": [
        "%time clf.fit(train_ada[variables], train_ada['signal'])"
      ]
    },
    {
      "cell_type": "markdown",
      "metadata": {
        "id": "QXMvcsa1fGYP"
      },
      "source": [
        "Compute prediction and add noise"
      ]
    },
    {
      "cell_type": "code",
      "execution_count": 53,
      "metadata": {
        "id": "QdIV3JB4fGYQ"
      },
      "outputs": [],
      "source": [
        "y_pred = add_noise(clf.predict_proba(test_ada[variables])[:, 1])"
      ]
    },
    {
      "cell_type": "markdown",
      "metadata": {
        "id": "XtYgGfbqfGYQ"
      },
      "source": [
        "# Prepare submission file"
      ]
    },
    {
      "cell_type": "code",
      "execution_count": 54,
      "metadata": {
        "id": "NuDdql9BfGYQ"
      },
      "outputs": [],
      "source": [
        "def save_submission(y_pred, index, filename='result'):\n",
        "    sep = ','\n",
        "    filename = '{}.csv.gz'.format(filename)\n",
        "    pandas.DataFrame({'id': index, 'prediction': y_pred}).to_csv(\n",
        "                filename, sep=sep, index=False, compression='gzip')\n",
        "    print (\"Saved file: \", filename, \"\\nShape:\", (y_pred.shape[0], 2))\n",
        "    return filename"
      ]
    },
    {
      "cell_type": "code",
      "execution_count": 55,
      "metadata": {
        "id": "xseBh0LMfGYQ",
        "outputId": "de1f9474-451c-4564-bf7a-616fb22ee531",
        "colab": {
          "base_uri": "https://localhost:8080/",
          "height": 70
        }
      },
      "outputs": [
        {
          "output_type": "stream",
          "name": "stdout",
          "text": [
            "Saved file:  sample_submission.csv.gz \n",
            "Shape: (855819, 2)\n"
          ]
        },
        {
          "output_type": "execute_result",
          "data": {
            "application/vnd.google.colaboratory.intrinsic+json": {
              "type": "string"
            },
            "text/plain": [
              "'sample_submission.csv.gz'"
            ]
          },
          "metadata": {},
          "execution_count": 55
        }
      ],
      "source": [
        "save_submission(y_pred, test_ada.index, \"sample_submission\")"
      ]
    },
    {
      "cell_type": "code",
      "execution_count": 55,
      "metadata": {
        "id": "uOQq4ansfGYR"
      },
      "outputs": [],
      "source": [
        ""
      ]
    }
  ],
  "metadata": {
    "kernelspec": {
      "display_name": "Python 3",
      "language": "python",
      "name": "python3"
    },
    "language_info": {
      "codemirror_mode": {
        "name": "ipython",
        "version": 3
      },
      "file_extension": ".py",
      "mimetype": "text/x-python",
      "name": "python",
      "nbconvert_exporter": "python",
      "pygments_lexer": "ipython3",
      "version": "3.6.5"
    },
    "colab": {
      "name": "Copy of index_3.ipynb",
      "provenance": []
    }
  },
  "nbformat": 4,
  "nbformat_minor": 0
}